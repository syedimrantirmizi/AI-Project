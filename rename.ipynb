{
 "cells": [
  {
   "cell_type": "code",
   "execution_count": null,
   "metadata": {},
   "outputs": [],
   "source": [
    "import os\n",
    "import random\n",
    "import string\n",
    "\n",
    "# Set the path to your folder\n",
    "folder_path = './Truck'"
   ]
  },
  {
   "cell_type": "code",
   "execution_count": null,
   "metadata": {},
   "outputs": [],
   "source": [
    "# Get the list of files in the folder\n",
    "files = os.listdir(folder_path)\n",
    "\n",
    "# Step 1: Rename files to random names\n",
    "for file in files:\n",
    "    # Generate a random filename\n",
    "    random_name = ''.join(random.choices(string.ascii_lowercase + string.digits, k=10)) + os.path.splitext(file)[1]\n",
    "    old_path = os.path.join(folder_path, file)\n",
    "    new_path = os.path.join(folder_path, random_name)\n",
    "    \n",
    "    # Rename the file to a random name\n",
    "    os.rename(old_path, new_path)"
   ]
  },
  {
   "cell_type": "code",
   "execution_count": null,
   "metadata": {},
   "outputs": [],
   "source": [
    "# Step 2: Rename files to Image_number format\n",
    "files = os.listdir(folder_path)\n",
    "for index, file in enumerate(files):\n",
    "    # Get the file extension\n",
    "    file_extension = os.path.splitext(file)[1]\n",
    "    # Create the new name as Image_number\n",
    "    new_name = f'truck{index + 1}{file_extension}'\n",
    "    old_path = os.path.join(folder_path, file)\n",
    "    new_path = os.path.join(folder_path, new_name)\n",
    "    \n",
    "    # Check if the new name already exists\n",
    "    while os.path.exists(new_path):\n",
    "        # If it exists, increment the number\n",
    "        index += 1\n",
    "        new_name = f'truck{index + 1}{file_extension}'\n",
    "        new_path = os.path.join(folder_path, new_name)\n",
    "    \n",
    "    # Rename the file\n",
    "    os.rename(old_path, new_path)\n",
    "\n",
    "print(\"Files renamed successfully.\")"
   ]
  }
 ],
 "metadata": {
  "language_info": {
   "name": "python"
  }
 },
 "nbformat": 4,
 "nbformat_minor": 2
}
